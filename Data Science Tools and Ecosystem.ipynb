{
 "cells": [
  {
   "cell_type": "markdown",
   "id": "e39a5693-b22d-4f9b-b182-8bc01e9c4f19",
   "metadata": {},
   "source": [
    "# Data Science Tools and Ecosystem"
   ]
  },
  {
   "cell_type": "markdown",
   "id": "3d46d224-5678-4ff1-92d3-78217b9eab82",
   "metadata": {},
   "source": [
    "## In this notebook, Data Science Tools and Ecosystem are summarized."
   ]
  },
  {
   "cell_type": "markdown",
   "id": "bc1dc644-d210-432e-b82d-36c6ffdd1588",
   "metadata": {},
   "source": [
    "### Some of the popular languages that Data Scientists use are:\n",
    "1. PYTHON\n",
    "1. R\n",
    "1. SQL\n",
    "1. SCALA"
   ]
  },
  {
   "cell_type": "markdown",
   "id": "2b21e2a1-ff96-4280-9f33-704feaf741c4",
   "metadata": {},
   "source": [
    "### Some of the commonly used libraries used by Data Scientists include:\n",
    "1. Numpy\n",
    "1. Pandas\n",
    "1. Matplotlib\n",
    "1. Seaborn\n",
    "1. Scikit-learn"
   ]
  },
  {
   "cell_type": "markdown",
   "id": "4cedcd23-62e6-49dd-8c7c-520d0c1d71b9",
   "metadata": {},
   "source": [
    "### Data Science Tools\n",
    "1. Oracle database\n",
    "1. sql server\n",
    "1. IBM DB2\n",
    "1. Informatica\n",
    "1. IBM Watson Studio Desktop\n",
    "1. Tableau\n",
    "1. SPSS"
   ]
  },
  {
   "cell_type": "markdown",
   "id": "a465c5ca-bf53-4290-a8e1-b3241338277c",
   "metadata": {},
   "source": [
    "## Below are a few examples of evaluating arithmetic expressions in Python"
   ]
  },
  {
   "cell_type": "code",
   "execution_count": 1,
   "id": "8609aa53-444a-4f4d-b002-575ae166bc37",
   "metadata": {
    "tags": []
   },
   "outputs": [
    {
     "name": "stdout",
     "output_type": "stream",
     "text": [
      "17\n"
     ]
    }
   ],
   "source": [
    "# This a simple arithmetic expression to mutiply then add integers\n",
    "s=(3*4)+5\n",
    "print(s)"
   ]
  },
  {
   "cell_type": "code",
   "execution_count": 2,
   "id": "d44256e1-85f9-40b8-9f46-8c282a9e1bd9",
   "metadata": {
    "tags": []
   },
   "outputs": [
    {
     "name": "stdout",
     "output_type": "stream",
     "text": [
      "3.3333333333333335\n"
     ]
    }
   ],
   "source": [
    "# This will convert 200 minutes to hours by diving by 60\n",
    "m=200\n",
    "h=m/60\n",
    "print(h)"
   ]
  },
  {
   "cell_type": "markdown",
   "id": "ce8e85a9-e753-4887-b783-cd675b47e2b1",
   "metadata": {},
   "source": [
    "- PYTHON\n",
    "- R\n",
    "- SQL\n",
    "- JAVA\n",
    "- C++\n",
    "- SCALA\n",
    "- JULIA"
   ]
  },
  {
   "cell_type": "markdown",
   "id": "5d7cc437-4e7b-4d8a-8510-6f72bb66ab41",
   "metadata": {},
   "source": [
    "## Author"
   ]
  },
  {
   "cell_type": "markdown",
   "id": "780cb7a7-f0d6-4fae-8c3d-b2c9b7242cfb",
   "metadata": {},
   "source": [
    "### Siva vara prasad Chinthalapudi"
   ]
  }
 ],
 "metadata": {
  "kernelspec": {
   "display_name": "Python",
   "language": "python",
   "name": "conda-env-python-py"
  },
  "language_info": {
   "codemirror_mode": {
    "name": "ipython",
    "version": 3
   },
   "file_extension": ".py",
   "mimetype": "text/x-python",
   "name": "python",
   "nbconvert_exporter": "python",
   "pygments_lexer": "ipython3",
   "version": "3.7.12"
  }
 },
 "nbformat": 4,
 "nbformat_minor": 5
}
